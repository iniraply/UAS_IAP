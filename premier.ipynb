{
 "cells": [
  {
   "cell_type": "code",
   "execution_count": null,
   "id": "36c39cfa",
   "metadata": {},
   "outputs": [
    {
     "name": "stdout",
     "output_type": "stream",
     "text": [
      "{'message': 'You are not subscribed to this API.'}\n"
     ]
    }
   ],
   "source": [
    "import requests\n",
    "\n",
    "url = \"https://premier-league-standings1.p.rapidapi.com/\"\n",
    "\n",
    "headers = {\n",
    "\t\"x-rapidapi-key\": \"ac2de6ff01msha261f7c9809c707p1f525djsnba0b4eb55c92\",\n",
    "\t\"x-rapidapi-host\": \"premier-league-standings1.p.rapidapi.com\"\n",
    "}\n",
    "\n",
    "response = requests.get(url, headers=headers)\n",
    "\n",
    "print(response.json())"
   ]
  },
  {
   "cell_type": "code",
   "execution_count": null,
   "id": "6bc9e46e",
   "metadata": {},
   "outputs": [
    {
     "data": {
      "text/plain": [
       "list"
      ]
     },
     "execution_count": 13,
     "metadata": {},
     "output_type": "execute_result"
    }
   ],
   "source": [
    "type(response.json())"
   ]
  },
  {
   "cell_type": "code",
   "execution_count": 4,
   "id": "5e85753c",
   "metadata": {},
   "outputs": [
    {
     "data": {
      "text/plain": [
       "requests.models.Response"
      ]
     },
     "execution_count": 14,
     "metadata": {},
     "output_type": "execute_result"
    }
   ],
   "source": [
    "type(response)"
   ]
  },
  {
   "cell_type": "code",
   "execution_count": null,
   "id": "4dde51e6",
   "metadata": {},
   "outputs": [],
   "source": [
    "premierleague = response.json()"
   ]
  },
  {
   "cell_type": "code",
   "execution_count": null,
   "id": "c78c58f3",
   "metadata": {},
   "outputs": [
    {
     "name": "stdout",
     "output_type": "stream",
     "text": [
      "{'team': {'name': 'Barcelona', 'logo': 'https://a.espncdn.com/i/teamlogos/soccer/500/83.png', 'abbreviation': 'BAR'}, 'stats': {'wins': 27, 'losses': 6, 'ties': 4, 'gamesPlayed': 37, 'goalsFor': 99, 'goalsAgainst': 39, 'points': 85, 'rank': 1, 'goalDifference': 60}}\n",
      "{'team': {'name': 'Real Madrid', 'logo': 'https://a.espncdn.com/i/teamlogos/soccer/500/86.png', 'abbreviation': 'RMA'}, 'stats': {'wins': 25, 'losses': 6, 'ties': 6, 'gamesPlayed': 37, 'goalsFor': 76, 'goalsAgainst': 38, 'points': 81, 'rank': 2, 'goalDifference': 38}}\n",
      "{'team': {'name': 'Atlético Madrid', 'logo': 'https://a.espncdn.com/i/teamlogos/soccer/500/1068.png', 'abbreviation': 'ATM'}, 'stats': {'wins': 21, 'losses': 6, 'ties': 10, 'gamesPlayed': 37, 'goalsFor': 64, 'goalsAgainst': 30, 'points': 73, 'rank': 3, 'goalDifference': 34}}\n",
      "{'team': {'name': 'Athletic Club', 'logo': 'https://a.espncdn.com/i/teamlogos/soccer/500/93.png', 'abbreviation': 'ATH'}, 'stats': {'wins': 19, 'losses': 5, 'ties': 13, 'gamesPlayed': 37, 'goalsFor': 54, 'goalsAgainst': 26, 'points': 70, 'rank': 4, 'goalDifference': 28}}\n",
      "{'team': {'name': 'Villarreal', 'logo': 'https://a.espncdn.com/i/teamlogos/soccer/500/102.png', 'abbreviation': 'VIL'}, 'stats': {'wins': 19, 'losses': 8, 'ties': 10, 'gamesPlayed': 37, 'goalsFor': 67, 'goalsAgainst': 49, 'points': 67, 'rank': 5, 'goalDifference': 18}}\n",
      "{'team': {'name': 'Real Betis', 'logo': 'https://a.espncdn.com/i/teamlogos/soccer/500/244.png', 'abbreviation': 'BET'}, 'stats': {'wins': 16, 'losses': 10, 'ties': 11, 'gamesPlayed': 37, 'goalsFor': 56, 'goalsAgainst': 49, 'points': 59, 'rank': 6, 'goalDifference': 7}}\n",
      "{'team': {'name': 'Celta Vigo', 'logo': 'https://a.espncdn.com/i/teamlogos/soccer/500/85.png', 'abbreviation': 'CEL'}, 'stats': {'wins': 15, 'losses': 15, 'ties': 7, 'gamesPlayed': 37, 'goalsFor': 57, 'goalsAgainst': 56, 'points': 52, 'rank': 7, 'goalDifference': 1}}\n",
      "{'team': {'name': 'Rayo Vallecano', 'logo': 'https://a.espncdn.com/i/teamlogos/soccer/500/101.png', 'abbreviation': 'RAY'}, 'stats': {'wins': 13, 'losses': 12, 'ties': 12, 'gamesPlayed': 37, 'goalsFor': 41, 'goalsAgainst': 45, 'points': 51, 'rank': 8, 'goalDifference': -4}}\n",
      "{'team': {'name': 'Osasuna', 'logo': 'https://a.espncdn.com/i/teamlogos/soccer/500/97.png', 'abbreviation': 'OSA'}, 'stats': {'wins': 12, 'losses': 10, 'ties': 15, 'gamesPlayed': 37, 'goalsFor': 47, 'goalsAgainst': 51, 'points': 51, 'rank': 9, 'goalDifference': -4}}\n",
      "{'team': {'name': 'Mallorca', 'logo': 'https://a.espncdn.com/i/teamlogos/soccer/500/84.png', 'abbreviation': 'MLL'}, 'stats': {'wins': 13, 'losses': 16, 'ties': 8, 'gamesPlayed': 37, 'goalsFor': 35, 'goalsAgainst': 44, 'points': 47, 'rank': 10, 'goalDifference': -9}}\n",
      "{'team': {'name': 'Real Sociedad', 'logo': 'https://a.espncdn.com/i/teamlogos/soccer/500/89.png', 'abbreviation': 'RSO'}, 'stats': {'wins': 13, 'losses': 17, 'ties': 7, 'gamesPlayed': 37, 'goalsFor': 35, 'goalsAgainst': 44, 'points': 46, 'rank': 11, 'goalDifference': -9}}\n",
      "{'team': {'name': 'Valencia', 'logo': 'https://a.espncdn.com/i/teamlogos/soccer/500/94.png', 'abbreviation': 'VAL'}, 'stats': {'wins': 11, 'losses': 14, 'ties': 12, 'gamesPlayed': 37, 'goalsFor': 43, 'goalsAgainst': 53, 'points': 45, 'rank': 12, 'goalDifference': -10}}\n",
      "{'team': {'name': 'Getafe', 'logo': 'https://a.espncdn.com/i/teamlogos/soccer/500/2922.png', 'abbreviation': 'GET'}, 'stats': {'wins': 11, 'losses': 17, 'ties': 9, 'gamesPlayed': 37, 'goalsFor': 33, 'goalsAgainst': 37, 'points': 42, 'rank': 13, 'goalDifference': -4}}\n",
      "{'team': {'name': 'Alavés', 'logo': 'https://a.espncdn.com/i/teamlogos/soccer/500/96.png', 'abbreviation': 'ALA'}, 'stats': {'wins': 10, 'losses': 16, 'ties': 11, 'gamesPlayed': 37, 'goalsFor': 37, 'goalsAgainst': 47, 'points': 41, 'rank': 14, 'goalDifference': -10}}\n",
      "{'team': {'name': 'Girona', 'logo': 'https://a.espncdn.com/i/teamlogos/soccer/500/9812.png', 'abbreviation': 'GIR'}, 'stats': {'wins': 11, 'losses': 18, 'ties': 8, 'gamesPlayed': 37, 'goalsFor': 44, 'goalsAgainst': 56, 'points': 41, 'rank': 15, 'goalDifference': -12}}\n",
      "{'team': {'name': 'Sevilla', 'logo': 'https://a.espncdn.com/i/teamlogos/soccer/500/243.png', 'abbreviation': 'SEV'}, 'stats': {'wins': 10, 'losses': 16, 'ties': 11, 'gamesPlayed': 37, 'goalsFor': 40, 'goalsAgainst': 51, 'points': 41, 'rank': 16, 'goalDifference': -11}}\n",
      "{'team': {'name': 'Espanyol', 'logo': 'https://a.espncdn.com/i/teamlogos/soccer/500/88.png', 'abbreviation': 'ESP'}, 'stats': {'wins': 10, 'losses': 18, 'ties': 9, 'gamesPlayed': 37, 'goalsFor': 38, 'goalsAgainst': 51, 'points': 39, 'rank': 17, 'goalDifference': -13}}\n",
      "{'team': {'name': 'Leganés', 'logo': 'https://a.espncdn.com/i/teamlogos/soccer/500/17534.png', 'abbreviation': 'LEG'}, 'stats': {'wins': 8, 'losses': 16, 'ties': 13, 'gamesPlayed': 37, 'goalsFor': 36, 'goalsAgainst': 56, 'points': 37, 'rank': 18, 'goalDifference': -20}}\n",
      "{'team': {'name': 'Las Palmas', 'logo': 'https://a.espncdn.com/i/teamlogos/soccer/500/98.png', 'abbreviation': 'LPA'}, 'stats': {'wins': 8, 'losses': 21, 'ties': 8, 'gamesPlayed': 37, 'goalsFor': 40, 'goalsAgainst': 59, 'points': 32, 'rank': 19, 'goalDifference': -19}}\n",
      "{'team': {'name': 'Real Valladolid', 'logo': 'https://a.espncdn.com/i/teamlogos/soccer/500/95.png', 'abbreviation': 'VLL'}, 'stats': {'wins': 4, 'losses': 29, 'ties': 4, 'gamesPlayed': 37, 'goalsFor': 26, 'goalsAgainst': 87, 'points': 16, 'rank': 20, 'goalDifference': -61}}\n"
     ]
    }
   ],
   "source": [
    "for i in premierleague:\n",
    "    print(i)"
   ]
  },
  {
   "cell_type": "code",
   "execution_count": null,
   "id": "e23d204d",
   "metadata": {},
   "outputs": [
    {
     "name": "stdout",
     "output_type": "stream",
     "text": [
      "Liverpool 25\n",
      "Arsenal 19\n",
      "Manchester City 20\n",
      "Newcastle United 20\n",
      "Chelsea 19\n",
      "Aston Villa 19\n",
      "Nottingham Forest 19\n",
      "Brighton & Hove Albion 15\n",
      "Brentford 16\n",
      "Fulham 15\n",
      "AFC Bournemouth 14\n",
      "Crystal Palace 13\n",
      "Everton 10\n",
      "Wolverhampton Wanderers 12\n",
      "West Ham United 10\n",
      "Manchester United 10\n",
      "Tottenham Hotspur 11\n",
      "Leicester City 6\n",
      "Ipswich Town 4\n",
      "Southampton 2\n"
     ]
    }
   ],
   "source": [
    "for i in premierleague:\n",
    "    print(i['team'] ['name'], i['stats'] ['wins'])"
   ]
  },
  {
   "cell_type": "code",
   "execution_count": 11,
   "id": "f7e794c7",
   "metadata": {},
   "outputs": [
    {
     "data": {
      "text/plain": [
       "20"
      ]
     },
     "execution_count": 11,
     "metadata": {},
     "output_type": "execute_result"
    }
   ],
   "source": [
    "len(premierleague)"
   ]
  },
  {
   "cell_type": "code",
   "execution_count": null,
   "id": "ad0fb5b8",
   "metadata": {},
   "outputs": [],
   "source": []
  }
 ],
 "metadata": {
  "kernelspec": {
   "display_name": "Python 3",
   "language": "python",
   "name": "python3"
  },
  "language_info": {
   "codemirror_mode": {
    "name": "ipython",
    "version": 3
   },
   "file_extension": ".py",
   "mimetype": "text/x-python",
   "name": "python",
   "nbconvert_exporter": "python",
   "pygments_lexer": "ipython3",
   "version": "3.12.3"
  }
 },
 "nbformat": 4,
 "nbformat_minor": 5
}
